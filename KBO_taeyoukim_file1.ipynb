{
 "cells": [
  {
   "cell_type": "code",
   "execution_count": 109,
   "metadata": {},
   "outputs": [
    {
     "data": {
      "text/plain": [
       "8.911400027500349e-05"
      ]
     },
     "execution_count": 109,
     "metadata": {},
     "output_type": "execute_result"
    }
   ],
   "source": [
    "import pandas as pd\n",
    "import numpy as np\n",
    "import seaborn as sns\n",
    "import matplotlib\n",
    "import os\n",
    "import timeit ## running time 측정용 패키지 \n",
    "tic=timeit.default_timer()\n",
    "\n",
    "import warnings\n",
    "def ignore_warn(*args, **kwargs):\n",
    "    pass\n",
    "warnings.warn = ignore_warn #ignore annoying warning (from sklearn and seaborn)\n",
    "\n",
    "from scipy import stats\n",
    "from scipy.stats import norm, skew #for some statistics\n",
    "toc=timeit.default_timer()\n",
    "toc - tic #elapsed time in seconds"
   ]
  },
  {
   "cell_type": "code",
   "execution_count": 3,
   "metadata": {},
   "outputs": [
    {
     "data": {
      "text/plain": [
       "'C:\\\\Users\\\\tkim29\\\\dacon_kbo'"
      ]
     },
     "execution_count": 3,
     "metadata": {},
     "output_type": "execute_result"
    }
   ],
   "source": [
    "os.getcwd()"
   ]
  },
  {
   "cell_type": "code",
   "execution_count": 103,
   "metadata": {},
   "outputs": [],
   "source": [
    "preseason_batter = pd.read_csv('../dacon_kbo/Pre_Season_Batter.csv',encoding='utf-8')\n",
    "regular_season = pd.read_csv('../dacon_kbo/Regular_Season_Batter.csv',encoding='utf-8')"
   ]
  },
  {
   "cell_type": "code",
   "execution_count": 104,
   "metadata": {},
   "outputs": [
    {
     "data": {
      "text/html": [
       "<div>\n",
       "<style scoped>\n",
       "    .dataframe tbody tr th:only-of-type {\n",
       "        vertical-align: middle;\n",
       "    }\n",
       "\n",
       "    .dataframe tbody tr th {\n",
       "        vertical-align: top;\n",
       "    }\n",
       "\n",
       "    .dataframe thead th {\n",
       "        text-align: right;\n",
       "    }\n",
       "</style>\n",
       "<table border=\"1\" class=\"dataframe\">\n",
       "  <thead>\n",
       "    <tr style=\"text-align: right;\">\n",
       "      <th></th>\n",
       "      <th>batter_id</th>\n",
       "      <th>batter_name</th>\n",
       "      <th>year</th>\n",
       "      <th>team</th>\n",
       "      <th>avg</th>\n",
       "      <th>G</th>\n",
       "      <th>AB</th>\n",
       "      <th>R</th>\n",
       "      <th>H</th>\n",
       "      <th>2B</th>\n",
       "      <th>...</th>\n",
       "      <th>GDP</th>\n",
       "      <th>SLG</th>\n",
       "      <th>OBP</th>\n",
       "      <th>E</th>\n",
       "      <th>height/weight</th>\n",
       "      <th>year_born</th>\n",
       "      <th>position</th>\n",
       "      <th>career</th>\n",
       "      <th>starting_salary</th>\n",
       "      <th>OPS</th>\n",
       "    </tr>\n",
       "  </thead>\n",
       "  <tbody>\n",
       "    <tr>\n",
       "      <th>0</th>\n",
       "      <td>0</td>\n",
       "      <td>가르시아</td>\n",
       "      <td>2018</td>\n",
       "      <td>LG</td>\n",
       "      <td>0.350</td>\n",
       "      <td>7</td>\n",
       "      <td>20</td>\n",
       "      <td>1</td>\n",
       "      <td>7</td>\n",
       "      <td>1</td>\n",
       "      <td>...</td>\n",
       "      <td>1</td>\n",
       "      <td>0.550</td>\n",
       "      <td>0.409</td>\n",
       "      <td>1</td>\n",
       "      <td>177cm/93kg</td>\n",
       "      <td>1985년 04월 12일</td>\n",
       "      <td>내야수(우투우타)</td>\n",
       "      <td>쿠바 Ciego de Avila Maximo Gomez Baez(대)</td>\n",
       "      <td>NaN</td>\n",
       "      <td>0.959</td>\n",
       "    </tr>\n",
       "    <tr>\n",
       "      <th>1</th>\n",
       "      <td>1</td>\n",
       "      <td>강경학</td>\n",
       "      <td>2011</td>\n",
       "      <td>한화</td>\n",
       "      <td>0.000</td>\n",
       "      <td>4</td>\n",
       "      <td>2</td>\n",
       "      <td>2</td>\n",
       "      <td>0</td>\n",
       "      <td>0</td>\n",
       "      <td>...</td>\n",
       "      <td>0</td>\n",
       "      <td>0.000</td>\n",
       "      <td>0.500</td>\n",
       "      <td>0</td>\n",
       "      <td>180cm/72kg</td>\n",
       "      <td>1992년 08월 11일</td>\n",
       "      <td>내야수(우투좌타)</td>\n",
       "      <td>광주대성초-광주동성중-광주동성고</td>\n",
       "      <td>10000만원</td>\n",
       "      <td>0.500</td>\n",
       "    </tr>\n",
       "    <tr>\n",
       "      <th>2</th>\n",
       "      <td>1</td>\n",
       "      <td>강경학</td>\n",
       "      <td>2014</td>\n",
       "      <td>한화</td>\n",
       "      <td>-</td>\n",
       "      <td>4</td>\n",
       "      <td>0</td>\n",
       "      <td>2</td>\n",
       "      <td>0</td>\n",
       "      <td>0</td>\n",
       "      <td>...</td>\n",
       "      <td>0</td>\n",
       "      <td>NaN</td>\n",
       "      <td>NaN</td>\n",
       "      <td>0</td>\n",
       "      <td>180cm/72kg</td>\n",
       "      <td>1992년 08월 11일</td>\n",
       "      <td>내야수(우투좌타)</td>\n",
       "      <td>광주대성초-광주동성중-광주동성고</td>\n",
       "      <td>10000만원</td>\n",
       "      <td>NaN</td>\n",
       "    </tr>\n",
       "    <tr>\n",
       "      <th>3</th>\n",
       "      <td>1</td>\n",
       "      <td>강경학</td>\n",
       "      <td>2015</td>\n",
       "      <td>한화</td>\n",
       "      <td>0.130</td>\n",
       "      <td>10</td>\n",
       "      <td>23</td>\n",
       "      <td>3</td>\n",
       "      <td>3</td>\n",
       "      <td>0</td>\n",
       "      <td>...</td>\n",
       "      <td>0</td>\n",
       "      <td>0.130</td>\n",
       "      <td>0.286</td>\n",
       "      <td>2</td>\n",
       "      <td>180cm/72kg</td>\n",
       "      <td>1992년 08월 11일</td>\n",
       "      <td>내야수(우투좌타)</td>\n",
       "      <td>광주대성초-광주동성중-광주동성고</td>\n",
       "      <td>10000만원</td>\n",
       "      <td>0.416</td>\n",
       "    </tr>\n",
       "    <tr>\n",
       "      <th>4</th>\n",
       "      <td>1</td>\n",
       "      <td>강경학</td>\n",
       "      <td>2016</td>\n",
       "      <td>한화</td>\n",
       "      <td>0.188</td>\n",
       "      <td>14</td>\n",
       "      <td>32</td>\n",
       "      <td>4</td>\n",
       "      <td>6</td>\n",
       "      <td>1</td>\n",
       "      <td>...</td>\n",
       "      <td>0</td>\n",
       "      <td>0.281</td>\n",
       "      <td>0.212</td>\n",
       "      <td>0</td>\n",
       "      <td>180cm/72kg</td>\n",
       "      <td>1992년 08월 11일</td>\n",
       "      <td>내야수(우투좌타)</td>\n",
       "      <td>광주대성초-광주동성중-광주동성고</td>\n",
       "      <td>10000만원</td>\n",
       "      <td>0.493</td>\n",
       "    </tr>\n",
       "  </tbody>\n",
       "</table>\n",
       "<p>5 rows × 29 columns</p>\n",
       "</div>"
      ],
      "text/plain": [
       "   batter_id batter_name  year team    avg   G  AB  R  H  2B  ...    GDP  \\\n",
       "0          0        가르시아  2018   LG  0.350   7  20  1  7   1  ...      1   \n",
       "1          1         강경학  2011   한화  0.000   4   2  2  0   0  ...      0   \n",
       "2          1         강경학  2014   한화      -   4   0  2  0   0  ...      0   \n",
       "3          1         강경학  2015   한화  0.130  10  23  3  3   0  ...      0   \n",
       "4          1         강경학  2016   한화  0.188  14  32  4  6   1  ...      0   \n",
       "\n",
       "     SLG    OBP  E  height/weight      year_born   position  \\\n",
       "0  0.550  0.409  1     177cm/93kg  1985년 04월 12일  내야수(우투우타)   \n",
       "1  0.000  0.500  0     180cm/72kg  1992년 08월 11일  내야수(우투좌타)   \n",
       "2    NaN    NaN  0     180cm/72kg  1992년 08월 11일  내야수(우투좌타)   \n",
       "3  0.130  0.286  2     180cm/72kg  1992년 08월 11일  내야수(우투좌타)   \n",
       "4  0.281  0.212  0     180cm/72kg  1992년 08월 11일  내야수(우투좌타)   \n",
       "\n",
       "                                   career  starting_salary    OPS  \n",
       "0  쿠바 Ciego de Avila Maximo Gomez Baez(대)              NaN  0.959  \n",
       "1                       광주대성초-광주동성중-광주동성고          10000만원  0.500  \n",
       "2                       광주대성초-광주동성중-광주동성고          10000만원    NaN  \n",
       "3                       광주대성초-광주동성중-광주동성고          10000만원  0.416  \n",
       "4                       광주대성초-광주동성중-광주동성고          10000만원  0.493  \n",
       "\n",
       "[5 rows x 29 columns]"
      ]
     },
     "execution_count": 104,
     "metadata": {},
     "output_type": "execute_result"
    }
   ],
   "source": [
    "preseason_batter.head()"
   ]
  },
  {
   "cell_type": "code",
   "execution_count": 105,
   "metadata": {},
   "outputs": [],
   "source": [
    "pre_df1 = pd.DataFrame(preseason_batter)"
   ]
  },
  {
   "cell_type": "code",
   "execution_count": 116,
   "metadata": {},
   "outputs": [
    {
     "data": {
      "text/plain": [
       "Index(['batter_id', 'batter_name', 'year', 'team', 'avg', 'G', 'AB', 'R', 'H',\n",
       "       '2B', '3B', 'HR', 'TB', 'RBI', 'SB', 'CS', 'BB', 'HBP', 'SO', 'GDP',\n",
       "       'SLG', 'OBP', 'E', 'height/weight', 'year_born', 'position', 'career',\n",
       "       'starting_salary', 'OPS'],\n",
       "      dtype='object')"
      ]
     },
     "execution_count": 116,
     "metadata": {},
     "output_type": "execute_result"
    }
   ],
   "source": [
    "pre_df1.columns"
   ]
  },
  {
   "cell_type": "code",
   "execution_count": 126,
   "metadata": {},
   "outputs": [
    {
     "data": {
      "text/plain": [
       "<matplotlib.axes._subplots.AxesSubplot at 0x1da72528cf8>"
      ]
     },
     "execution_count": 126,
     "metadata": {},
     "output_type": "execute_result"
    },
    {
     "data": {
      "image/png": "[encoded data removed]",
      "text/plain": [
       "<Figure size 432x288 with 1 Axes>"
      ]
     },
     "metadata": {
      "needs_background": "light"
     },
     "output_type": "display_data"
    }
   ],
   "source": [
    "sns.pointplot(x=\"GDP\", y=\"OPS\", data=pre_df1)"
   ]
  },
  {
   "cell_type": "code",
   "execution_count": null,
   "metadata": {},
   "outputs": [],
   "source": []
  },
  {
   "cell_type": "code",
   "execution_count": null,
   "metadata": {},
   "outputs": [],
   "source": []
  },
  {
   "cell_type": "code",
   "execution_count": 33,
   "metadata": {},
   "outputs": [],
   "source": [
    "pre_df1_groupby_mean = pre_df1.groupby(pre_df1['batter_name']).mean()"
   ]
  },
  {
   "cell_type": "code",
   "execution_count": 34,
   "metadata": {},
   "outputs": [
    {
     "data": {
      "text/html": [
       "<div>\n",
       "<style scoped>\n",
       "    .dataframe tbody tr th:only-of-type {\n",
       "        vertical-align: middle;\n",
       "    }\n",
       "\n",
       "    .dataframe tbody tr th {\n",
       "        vertical-align: top;\n",
       "    }\n",
       "\n",
       "    .dataframe thead th {\n",
       "        text-align: right;\n",
       "    }\n",
       "</style>\n",
       "<table border=\"1\" class=\"dataframe\">\n",
       "  <thead>\n",
       "    <tr style=\"text-align: right;\">\n",
       "      <th></th>\n",
       "      <th>batter_id</th>\n",
       "      <th>year</th>\n",
       "      <th>G</th>\n",
       "      <th>AB</th>\n",
       "      <th>R</th>\n",
       "      <th>H</th>\n",
       "      <th>2B</th>\n",
       "      <th>3B</th>\n",
       "      <th>HR</th>\n",
       "      <th>TB</th>\n",
       "      <th>...</th>\n",
       "      <th>SB</th>\n",
       "      <th>CS</th>\n",
       "      <th>BB</th>\n",
       "      <th>HBP</th>\n",
       "      <th>SO</th>\n",
       "      <th>GDP</th>\n",
       "      <th>SLG</th>\n",
       "      <th>OBP</th>\n",
       "      <th>E</th>\n",
       "      <th>OPS</th>\n",
       "    </tr>\n",
       "    <tr>\n",
       "      <th>batter_name</th>\n",
       "      <th></th>\n",
       "      <th></th>\n",
       "      <th></th>\n",
       "      <th></th>\n",
       "      <th></th>\n",
       "      <th></th>\n",
       "      <th></th>\n",
       "      <th></th>\n",
       "      <th></th>\n",
       "      <th></th>\n",
       "      <th></th>\n",
       "      <th></th>\n",
       "      <th></th>\n",
       "      <th></th>\n",
       "      <th></th>\n",
       "      <th></th>\n",
       "      <th></th>\n",
       "      <th></th>\n",
       "      <th></th>\n",
       "      <th></th>\n",
       "      <th></th>\n",
       "    </tr>\n",
       "  </thead>\n",
       "  <tbody>\n",
       "    <tr>\n",
       "      <th>가르시아</th>\n",
       "      <td>0.0</td>\n",
       "      <td>2018.000000</td>\n",
       "      <td>7.000000</td>\n",
       "      <td>20.000000</td>\n",
       "      <td>1.000000</td>\n",
       "      <td>7.000000</td>\n",
       "      <td>1.000000</td>\n",
       "      <td>0.000000</td>\n",
       "      <td>1.000000</td>\n",
       "      <td>11.000000</td>\n",
       "      <td>...</td>\n",
       "      <td>0.000000</td>\n",
       "      <td>0.000000</td>\n",
       "      <td>2.000000</td>\n",
       "      <td>0.0</td>\n",
       "      <td>3.000000</td>\n",
       "      <td>1.000000</td>\n",
       "      <td>0.550000</td>\n",
       "      <td>0.409000</td>\n",
       "      <td>1.000000</td>\n",
       "      <td>0.959000</td>\n",
       "    </tr>\n",
       "    <tr>\n",
       "      <th>강경학</th>\n",
       "      <td>1.0</td>\n",
       "      <td>2014.600000</td>\n",
       "      <td>8.600000</td>\n",
       "      <td>18.600000</td>\n",
       "      <td>4.200000</td>\n",
       "      <td>3.400000</td>\n",
       "      <td>0.200000</td>\n",
       "      <td>0.200000</td>\n",
       "      <td>0.400000</td>\n",
       "      <td>5.200000</td>\n",
       "      <td>...</td>\n",
       "      <td>0.800000</td>\n",
       "      <td>0.600000</td>\n",
       "      <td>1.400000</td>\n",
       "      <td>0.8</td>\n",
       "      <td>6.000000</td>\n",
       "      <td>0.000000</td>\n",
       "      <td>0.200000</td>\n",
       "      <td>0.320000</td>\n",
       "      <td>0.600000</td>\n",
       "      <td>0.520000</td>\n",
       "    </tr>\n",
       "    <tr>\n",
       "      <th>강구성</th>\n",
       "      <td>2.0</td>\n",
       "      <td>2015.333333</td>\n",
       "      <td>2.666667</td>\n",
       "      <td>2.000000</td>\n",
       "      <td>0.000000</td>\n",
       "      <td>0.333333</td>\n",
       "      <td>0.000000</td>\n",
       "      <td>0.000000</td>\n",
       "      <td>0.000000</td>\n",
       "      <td>0.333333</td>\n",
       "      <td>...</td>\n",
       "      <td>0.333333</td>\n",
       "      <td>0.000000</td>\n",
       "      <td>0.333333</td>\n",
       "      <td>0.0</td>\n",
       "      <td>0.000000</td>\n",
       "      <td>0.666667</td>\n",
       "      <td>0.333333</td>\n",
       "      <td>0.500000</td>\n",
       "      <td>0.000000</td>\n",
       "      <td>0.833333</td>\n",
       "    </tr>\n",
       "    <tr>\n",
       "      <th>강민국</th>\n",
       "      <td>3.0</td>\n",
       "      <td>2015.000000</td>\n",
       "      <td>9.000000</td>\n",
       "      <td>10.000000</td>\n",
       "      <td>1.333333</td>\n",
       "      <td>2.333333</td>\n",
       "      <td>1.000000</td>\n",
       "      <td>0.333333</td>\n",
       "      <td>0.000000</td>\n",
       "      <td>4.000000</td>\n",
       "      <td>...</td>\n",
       "      <td>0.000000</td>\n",
       "      <td>0.000000</td>\n",
       "      <td>0.666667</td>\n",
       "      <td>0.0</td>\n",
       "      <td>3.000000</td>\n",
       "      <td>0.000000</td>\n",
       "      <td>0.242000</td>\n",
       "      <td>0.160333</td>\n",
       "      <td>0.000000</td>\n",
       "      <td>0.402333</td>\n",
       "    </tr>\n",
       "    <tr>\n",
       "      <th>강민호</th>\n",
       "      <td>4.0</td>\n",
       "      <td>2011.500000</td>\n",
       "      <td>8.071429</td>\n",
       "      <td>17.285714</td>\n",
       "      <td>2.500000</td>\n",
       "      <td>4.285714</td>\n",
       "      <td>0.857143</td>\n",
       "      <td>0.071429</td>\n",
       "      <td>0.857143</td>\n",
       "      <td>7.857143</td>\n",
       "      <td>...</td>\n",
       "      <td>0.000000</td>\n",
       "      <td>0.142857</td>\n",
       "      <td>1.500000</td>\n",
       "      <td>0.5</td>\n",
       "      <td>3.785714</td>\n",
       "      <td>0.571429</td>\n",
       "      <td>0.427929</td>\n",
       "      <td>0.304429</td>\n",
       "      <td>0.071429</td>\n",
       "      <td>0.732357</td>\n",
       "    </tr>\n",
       "  </tbody>\n",
       "</table>\n",
       "<p>5 rows × 21 columns</p>\n",
       "</div>"
      ],
      "text/plain": [
       "             batter_id         year         G         AB         R         H  \\\n",
       "batter_name                                                                    \n",
       "가르시아               0.0  2018.000000  7.000000  20.000000  1.000000  7.000000   \n",
       "강경학                1.0  2014.600000  8.600000  18.600000  4.200000  3.400000   \n",
       "강구성                2.0  2015.333333  2.666667   2.000000  0.000000  0.333333   \n",
       "강민국                3.0  2015.000000  9.000000  10.000000  1.333333  2.333333   \n",
       "강민호                4.0  2011.500000  8.071429  17.285714  2.500000  4.285714   \n",
       "\n",
       "                   2B        3B        HR         TB    ...           SB  \\\n",
       "batter_name                                             ...                \n",
       "가르시아         1.000000  0.000000  1.000000  11.000000    ...     0.000000   \n",
       "강경학          0.200000  0.200000  0.400000   5.200000    ...     0.800000   \n",
       "강구성          0.000000  0.000000  0.000000   0.333333    ...     0.333333   \n",
       "강민국          1.000000  0.333333  0.000000   4.000000    ...     0.000000   \n",
       "강민호          0.857143  0.071429  0.857143   7.857143    ...     0.000000   \n",
       "\n",
       "                   CS        BB  HBP        SO       GDP       SLG       OBP  \\\n",
       "batter_name                                                                    \n",
       "가르시아         0.000000  2.000000  0.0  3.000000  1.000000  0.550000  0.409000   \n",
       "강경학          0.600000  1.400000  0.8  6.000000  0.000000  0.200000  0.320000   \n",
       "강구성          0.000000  0.333333  0.0  0.000000  0.666667  0.333333  0.500000   \n",
       "강민국          0.000000  0.666667  0.0  3.000000  0.000000  0.242000  0.160333   \n",
       "강민호          0.142857  1.500000  0.5  3.785714  0.571429  0.427929  0.304429   \n",
       "\n",
       "                    E       OPS  \n",
       "batter_name                      \n",
       "가르시아         1.000000  0.959000  \n",
       "강경학          0.600000  0.520000  \n",
       "강구성          0.000000  0.833333  \n",
       "강민국          0.000000  0.402333  \n",
       "강민호          0.071429  0.732357  \n",
       "\n",
       "[5 rows x 21 columns]"
      ]
     },
     "execution_count": 34,
     "metadata": {},
     "output_type": "execute_result"
    }
   ],
   "source": [
    "pre_df1_groupby_mean.head()"
   ]
  },
  {
   "cell_type": "code",
   "execution_count": 87,
   "metadata": {},
   "outputs": [
    {
     "data": {
      "text/plain": [
       "0"
      ]
     },
     "execution_count": 87,
     "metadata": {},
     "output_type": "execute_result"
    }
   ],
   "source": [
    "pre_df1_groupby_mean['3B'].isna().sum()"
   ]
  },
  {
   "cell_type": "code",
   "execution_count": 95,
   "metadata": {},
   "outputs": [
    {
     "data": {
      "text/plain": [
       "<matplotlib.axes._subplots.AxesSubplot at 0x1da6dfc53c8>"
      ]
     },
     "execution_count": 95,
     "metadata": {},
     "output_type": "execute_result"
    },
    {
     "data": {
      "image/png": "[encoded data removed]",
      "text/plain": [
       "<Figure size 432x288 with 2 Axes>"
      ]
     },
     "metadata": {
      "needs_background": "light"
     },
     "output_type": "display_data"
    }
   ],
   "source": [
    "cmap = sns.light_palette(\"red\", as_cmap=True)\n",
    "sns.heatmap(pre_df1.corr(), annot=False, cmap=cmap)"
   ]
  },
  {
   "cell_type": "code",
   "execution_count": 89,
   "metadata": {},
   "outputs": [
    {
     "data": {
      "text/plain": [
       "['3B']"
      ]
     },
     "execution_count": 89,
     "metadata": {},
     "output_type": "execute_result"
    }
   ],
   "source": [
    "feature_names = [\"3B\"]\n",
    "                        \n",
    "feature_names"
   ]
  },
  {
   "cell_type": "code",
   "execution_count": 90,
   "metadata": {},
   "outputs": [
    {
     "data": {
      "text/plain": [
       "'OPS'"
      ]
     },
     "execution_count": 90,
     "metadata": {},
     "output_type": "execute_result"
    }
   ],
   "source": [
    "label_name = \"OPS\"\n",
    "label_name"
   ]
  },
  {
   "cell_type": "code",
   "execution_count": 91,
   "metadata": {},
   "outputs": [
    {
     "name": "stdout",
     "output_type": "stream",
     "text": [
      "(229, 1)\n"
     ]
    },
    {
     "data": {
      "text/html": [
       "<div>\n",
       "<style scoped>\n",
       "    .dataframe tbody tr th:only-of-type {\n",
       "        vertical-align: middle;\n",
       "    }\n",
       "\n",
       "    .dataframe tbody tr th {\n",
       "        vertical-align: top;\n",
       "    }\n",
       "\n",
       "    .dataframe thead th {\n",
       "        text-align: right;\n",
       "    }\n",
       "</style>\n",
       "<table border=\"1\" class=\"dataframe\">\n",
       "  <thead>\n",
       "    <tr style=\"text-align: right;\">\n",
       "      <th></th>\n",
       "      <th>3B</th>\n",
       "    </tr>\n",
       "    <tr>\n",
       "      <th>batter_name</th>\n",
       "      <th></th>\n",
       "    </tr>\n",
       "  </thead>\n",
       "  <tbody>\n",
       "    <tr>\n",
       "      <th>가르시아</th>\n",
       "      <td>0.000000</td>\n",
       "    </tr>\n",
       "    <tr>\n",
       "      <th>강경학</th>\n",
       "      <td>0.200000</td>\n",
       "    </tr>\n",
       "    <tr>\n",
       "      <th>강구성</th>\n",
       "      <td>0.000000</td>\n",
       "    </tr>\n",
       "    <tr>\n",
       "      <th>강민국</th>\n",
       "      <td>0.333333</td>\n",
       "    </tr>\n",
       "    <tr>\n",
       "      <th>강민호</th>\n",
       "      <td>0.071429</td>\n",
       "    </tr>\n",
       "  </tbody>\n",
       "</table>\n",
       "</div>"
      ],
      "text/plain": [
       "                   3B\n",
       "batter_name          \n",
       "가르시아         0.000000\n",
       "강경학          0.200000\n",
       "강구성          0.000000\n",
       "강민국          0.333333\n",
       "강민호          0.071429"
      ]
     },
     "execution_count": 91,
     "metadata": {},
     "output_type": "execute_result"
    }
   ],
   "source": [
    "X_train = pre_df1_groupby_mean[feature_names]\n",
    "\n",
    "print(X_train.shape)\n",
    "\n",
    "X_train.head()"
   ]
  },
  {
   "cell_type": "code",
   "execution_count": 92,
   "metadata": {},
   "outputs": [
    {
     "name": "stdout",
     "output_type": "stream",
     "text": [
      "(229,)\n"
     ]
    },
    {
     "data": {
      "text/plain": [
       "batter_name\n",
       "가르시아    0.959000\n",
       "강경학     0.520000\n",
       "강구성     0.833333\n",
       "강민국     0.402333\n",
       "강민호     0.732357\n",
       "Name: OPS, dtype: float64"
      ]
     },
     "execution_count": 92,
     "metadata": {},
     "output_type": "execute_result"
    }
   ],
   "source": [
    "y_train = pre_df1_groupby_mean[label_name]\n",
    "\n",
    "print(y_train.shape)\n",
    "\n",
    "y_train.head()"
   ]
  },
  {
   "cell_type": "code",
   "execution_count": 93,
   "metadata": {},
   "outputs": [
    {
     "data": {
      "text/plain": [
       "make_scorer(rmsle)"
      ]
     },
     "execution_count": 93,
     "metadata": {},
     "output_type": "execute_result"
    }
   ],
   "source": [
    "import numpy as np\n",
    "\n",
    "from sklearn.metrics import make_scorer\n",
    "\n",
    "\n",
    "def rmsle(predict, actual):\n",
    "\n",
    "    predict = np.array(predict)\n",
    "    actual = np.array(actual)\n",
    "\n",
    "    log_predict = np.log(predict + 1)\n",
    "    log_actual = np.log(actual + 1)\n",
    "    \n",
    "\n",
    "    distance = log_predict - log_actual\n",
    "    \n",
    "\n",
    "    square_distance = distance ** 2\n",
    "    \n",
    "\n",
    "    mean_square_distance = square_distance.mean()\n",
    "    \n",
    " \n",
    "    score = np.sqrt(mean_square_distance)\n",
    "    \n",
    "\n",
    "    return score\n",
    "\n",
    "rmsle_score = make_scorer(rmsle)\n",
    "rmsle_score"
   ]
  },
  {
   "cell_type": "code",
   "execution_count": null,
   "metadata": {},
   "outputs": [],
   "source": []
  },
  {
   "cell_type": "code",
   "execution_count": null,
   "metadata": {},
   "outputs": [],
   "source": []
  }
 ],
 "metadata": {
  "anaconda-cloud": {},
  "kernelspec": {
   "display_name": "Python 3",
   "language": "python",
   "name": "python3"
  },
  "language_info": {
   "codemirror_mode": {
    "name": "ipython",
    "version": 3
   },
   "file_extension": ".py",
   "mimetype": "text/x-python",
   "name": "python",
   "nbconvert_exporter": "python",
   "pygments_lexer": "ipython3",
   "version": "3.7.1"
  }
 },
 "nbformat": 4,
 "nbformat_minor": 1
}
